{
 "cells": [
  {
   "cell_type": "code",
   "execution_count": 6,
   "id": "34505c03-c777-472e-a9c2-58a6dca44f15",
   "metadata": {},
   "outputs": [],
   "source": [
    "import requests\n",
    "import time\n",
    "from dataclasses import dataclass"
   ]
  },
  {
   "cell_type": "markdown",
   "id": "c59b6156-2e72-4c90-ba5f-c17f56729a07",
   "metadata": {},
   "source": [
    "### total, influential citations"
   ]
  },
  {
   "cell_type": "code",
   "execution_count": 7,
   "id": "ca4f2d8a-a2e0-43a5-b8a0-4730c6baf8da",
   "metadata": {},
   "outputs": [],
   "source": [
    "def get_citations(paper_id: str) -> tuple[int, int]:\n",
    "    time.sleep(0.5)\n",
    "    url = f\"https://api.semanticscholar.org/graph/v1/paper/{paper_id}?fields=url,year,citationCount,influentialCitationCount\"\n",
    "    # headers = {\"x-api-key\": \"XXXXXX\"}\n",
    "    response = requests.get(url)\n",
    "    response.raise_for_status()\n",
    "    data = response.json()\n",
    "    return (data[\"citationCount\"], data[\"influentialCitationCount\"])"
   ]
  },
  {
   "cell_type": "code",
   "execution_count": 13,
   "id": "cd480d0c-e4f9-4af5-ac0c-78490d23571f",
   "metadata": {},
   "outputs": [],
   "source": [
    "dgidb_ids = [\n",
    "    \"4d5928aefcb2c4f7fcf420815bdb8c3628991e4f\",  # 1.0\n",
    "    \"f23500ac9594a102f90da506368935bc8a769399\",  # 2.0\n",
    "    \"47c27885c80ded97209f39e257ff6c4ab1eb34d6\",  # 3.0\n",
    "    \"749ad05a40f668e597faa60a815aded780224e4d\",  # 4.0\n",
    "    \"f0e7a9a5b383994363aa4b68ed3509b082658e96\",  # 5.0\n",
    "]\n",
    "\n",
    "pharos_ids = [\n",
    "    \"0d32466f33173c8335765ded754ad62c5f484b03\",  # 2023\n",
    "    \"8d2310e3a67d3344f7592fa304ee163435ecbcf1\",  # 2021\n",
    "    \"7a2d1ac937efd5ecdaf3e47923a8b3ebb727953f\",  # protocols\n",
    "    \"ca86314ac0b18d0ec9aded7377329e24b718d962\",  # orig\n",
    "]\n",
    "\n",
    "ot_ids = [\n",
    "    \"1eb72ef89e6b7722e114e195f68cd45c86e6f344\",  # 2023\n",
    "    \"38cf8d61e98d6263cf05a78a0f0712f56c802c46\",  # 2020\n",
    "    \"4992d87ff038ae3bcdf8efdf805464d6f9db93a0\",  # 2018\n",
    "    \"fc7b81e9a3c1552b846e6728cb28c14f75db6e08\",  # 2016\n",
    "]"
   ]
  },
  {
   "cell_type": "code",
   "execution_count": 14,
   "id": "565a1cc7-239b-4c54-beca-8f4ae23b6e10",
   "metadata": {},
   "outputs": [
    {
     "name": "stdout",
     "output_type": "stream",
     "text": [
      "(2115, 131)\n",
      "(423, 28)\n",
      "(1202, 74)\n"
     ]
    }
   ],
   "source": [
    "dgidb_all = dgidb_infl = pharos_all = pharos_infl = ot_all = ot_infl = 0\n",
    "\n",
    "for dgidb_id in dgidb_ids:\n",
    "    cites_all, cites_infl = get_citations(dgidb_id)\n",
    "    dgidb_all += cites_all\n",
    "    dgidb_infl += cites_infl\n",
    "\n",
    "for pharos_id in pharos_ids:\n",
    "    cites_all, cites_infl = get_citations(pharos_id)\n",
    "    pharos_all += cites_all\n",
    "    pharos_infl += cites_infl\n",
    "\n",
    "for ot_id in ot_ids:\n",
    "    cites_all, cites_infl = get_citations(ot_id)\n",
    "    ot_all += cites_all\n",
    "    ot_infl += cites_infl\n",
    "\n",
    "print((dgidb_all, dgidb_infl))\n",
    "print((pharos_all, pharos_infl))\n",
    "print((ot_all, ot_infl))"
   ]
  },
  {
   "cell_type": "code",
   "execution_count": null,
   "id": "4010f54d-dbc1-4397-828a-d4d98b2d3d5b",
   "metadata": {},
   "outputs": [],
   "source": []
  }
 ],
 "metadata": {
  "kernelspec": {
   "display_name": "dgidb-citation-analysis",
   "language": "python",
   "name": "dgidb-citation-analysis"
  },
  "language_info": {
   "codemirror_mode": {
    "name": "ipython",
    "version": 3
   },
   "file_extension": ".py",
   "mimetype": "text/x-python",
   "name": "python",
   "nbconvert_exporter": "python",
   "pygments_lexer": "ipython3",
   "version": "3.12.2"
  }
 },
 "nbformat": 4,
 "nbformat_minor": 5
}

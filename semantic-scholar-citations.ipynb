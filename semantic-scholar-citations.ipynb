{
 "cells": [
  {
   "cell_type": "code",
   "execution_count": 22,
   "id": "34505c03-c777-472e-a9c2-58a6dca44f15",
   "metadata": {},
   "outputs": [],
   "source": [
    "import requests\n",
    "import time\n",
    "import json"
   ]
  },
  {
   "cell_type": "markdown",
   "id": "c59b6156-2e72-4c90-ba5f-c17f56729a07",
   "metadata": {},
   "source": [
    "### total, influential citations"
   ]
  },
  {
   "cell_type": "code",
   "execution_count": 7,
   "id": "ca4f2d8a-a2e0-43a5-b8a0-4730c6baf8da",
   "metadata": {},
   "outputs": [],
   "source": [
    "def get_citations(paper_id: str) -> tuple[int, int]:\n",
    "    time.sleep(0.5)\n",
    "    url = f\"https://api.semanticscholar.org/graph/v1/paper/{paper_id}?fields=url,year,citationCount,influentialCitationCount\"\n",
    "    # headers = {\"x-api-key\": \"XXXXXX\"}\n",
    "    response = requests.get(url)\n",
    "    response.raise_for_status()\n",
    "    data = response.json()\n",
    "    return (data[\"citationCount\"], data[\"influentialCitationCount\"])"
   ]
  },
  {
   "cell_type": "code",
   "execution_count": 27,
   "id": "cd480d0c-e4f9-4af5-ac0c-78490d23571f",
   "metadata": {},
   "outputs": [],
   "source": [
    "dgidb_ids = [\n",
    "    \"f0e7a9a5b383994363aa4b68ed3509b082658e96\",  # 5.0\n",
    "    \"749ad05a40f668e597faa60a815aded780224e4d\",  # 4.0\n",
    "    \"47c27885c80ded97209f39e257ff6c4ab1eb34d6\",  # 3.0\n",
    "    \"f23500ac9594a102f90da506368935bc8a769399\",  # 2.0\n",
    "    \"4d5928aefcb2c4f7fcf420815bdb8c3628991e4f\",  # 1.0\n",
    "]\n",
    "\n",
    "pharos_ids = [\n",
    "    \"0d32466f33173c8335765ded754ad62c5f484b03\",  # 2023\n",
    "    \"8d2310e3a67d3344f7592fa304ee163435ecbcf1\",  # 2021\n",
    "    \"7a2d1ac937efd5ecdaf3e47923a8b3ebb727953f\",  # protocols\n",
    "    \"ca86314ac0b18d0ec9aded7377329e24b718d962\",  # orig\n",
    "]\n",
    "\n",
    "ot_ids = [\n",
    "    \"1eb72ef89e6b7722e114e195f68cd45c86e6f344\",  # 2023\n",
    "    \"38cf8d61e98d6263cf05a78a0f0712f56c802c46\",  # 2020\n",
    "    \"4992d87ff038ae3bcdf8efdf805464d6f9db93a0\",  # 2018\n",
    "    \"fc7b81e9a3c1552b846e6728cb28c14f75db6e08\",  # 2016\n",
    "]"
   ]
  },
  {
   "cell_type": "code",
   "execution_count": 14,
   "id": "565a1cc7-239b-4c54-beca-8f4ae23b6e10",
   "metadata": {},
   "outputs": [
    {
     "name": "stdout",
     "output_type": "stream",
     "text": [
      "(2115, 131)\n",
      "(423, 28)\n",
      "(1202, 74)\n"
     ]
    }
   ],
   "source": [
    "dgidb_all = dgidb_infl = pharos_all = pharos_infl = ot_all = ot_infl = 0\n",
    "\n",
    "for dgidb_id in dgidb_ids:\n",
    "    cites_all, cites_infl = get_citations(dgidb_id)\n",
    "    dgidb_all += cites_all\n",
    "    dgidb_infl += cites_infl\n",
    "\n",
    "for pharos_id in pharos_ids:\n",
    "    cites_all, cites_infl = get_citations(pharos_id)\n",
    "    pharos_all += cites_all\n",
    "    pharos_infl += cites_infl\n",
    "\n",
    "for ot_id in ot_ids:\n",
    "    cites_all, cites_infl = get_citations(ot_id)\n",
    "    ot_all += cites_all\n",
    "    ot_infl += cites_infl\n",
    "\n",
    "print((dgidb_all, dgidb_infl))\n",
    "print((pharos_all, pharos_infl))\n",
    "print((ot_all, ot_infl))"
   ]
  },
  {
   "cell_type": "code",
   "execution_count": 35,
   "id": "4010f54d-dbc1-4397-828a-d4d98b2d3d5b",
   "metadata": {},
   "outputs": [],
   "source": [
    "def get_all_citation_data(paper_id):\n",
    "    step = 500\n",
    "    all_citations = []\n",
    "    offset = 0\n",
    "    while True:\n",
    "        time.sleep(0.25)  # or use API key to avoid throttling\n",
    "        url = f\"https://api.semanticscholar.org/graph/v1/paper/{paper_id}/citations?fields=intents,isInfluential,year&offset={offset}&limit={step}\"\n",
    "        response = requests.get(url)\n",
    "        response.raise_for_status()\n",
    "        data = response.json()\n",
    "        if not data.get('data'):\n",
    "            break\n",
    "        for cite in data['data']:\n",
    "            all_citations.append({\n",
    "                \"is_methodology\": \"methodology\" in cite.get('intents'),\n",
    "                \"is_background\": \"background\" in cite.get('intents'),\n",
    "                \"is_influential\": cite['isInfluential'],\n",
    "                \"year\": cite['citingPaper']['year']\n",
    "            })\n",
    "        offset += step\n",
    "    return all_citations\n",
    "\n",
    "all_citation_metadata = {\n",
    "    \"dgidb\": {\n",
    "        \"dgidb_5\": get_all_citation_data(dgidb_ids[0]),\n",
    "        \"dgidb_4\": get_all_citation_data(dgidb_ids[1]),\n",
    "        \"dgidb_3\": get_all_citation_data(dgidb_ids[2]),\n",
    "        \"dgidb_2\": get_all_citation_data(dgidb_ids[3]),\n",
    "        \"dgidb_1\": get_all_citation_data(dgidb_ids[4]),\n",
    "    }, \n",
    "    \"pharos\": {\n",
    "        \"pharos_2023\": get_all_citation_data(pharos_ids[0]),\n",
    "        \"pharos_2021\": get_all_citation_data(pharos_ids[1]),\n",
    "        \"pharos_prots\": get_all_citation_data(pharos_ids[2]),\n",
    "        \"pharos_orig\": get_all_citation_data(pharos_ids[3]),\n",
    "    },\n",
    "    \"ot\": {\n",
    "        \"ot_2023\": get_all_citation_data(ot_ids[0]),\n",
    "        \"ot_2020\": get_all_citation_data(ot_ids[1]),\n",
    "        \"ot_2018\": get_all_citation_data(ot_ids[2]),\n",
    "        \"ot_2016\": get_all_citation_data(ot_ids[3]),\n",
    "    }\n",
    "}\n",
    "\n",
    "with open(\"data/semantic_scholar_citation_metadata.json\", \"w\") as f:\n",
    "    json.dump(all_citation_metadata, f)"
   ]
  },
  {
   "cell_type": "code",
   "execution_count": null,
   "id": "19003fc1-4637-42a2-95b5-fa27e85d865d",
   "metadata": {},
   "outputs": [],
   "source": []
  }
 ],
 "metadata": {
  "kernelspec": {
   "display_name": "dgidb-citation-analysis",
   "language": "python",
   "name": "dgidb-citation-analysis"
  },
  "language_info": {
   "codemirror_mode": {
    "name": "ipython",
    "version": 3
   },
   "file_extension": ".py",
   "mimetype": "text/x-python",
   "name": "python",
   "nbconvert_exporter": "python",
   "pygments_lexer": "ipython3",
   "version": "3.12.2"
  }
 },
 "nbformat": 4,
 "nbformat_minor": 5
}
